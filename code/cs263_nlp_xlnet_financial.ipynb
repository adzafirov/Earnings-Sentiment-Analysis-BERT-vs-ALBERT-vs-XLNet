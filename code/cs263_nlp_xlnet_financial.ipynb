{
  "nbformat": 4,
  "nbformat_minor": 0,
  "metadata": {
    "colab": {
      "name": "cs263-nlp-xlnet-financial.ipynb",
      "provenance": []
    },
    "kernelspec": {
      "name": "python3",
      "display_name": "Python 3"
    },
    "accelerator": "GPU"
  },
  "cells": [
    {
      "cell_type": "code",
      "metadata": {
        "id": "GdbHafNvn_q9",
        "colab_type": "code",
        "outputId": "4b66604b-2a4c-4a9a-cbc8-ac79056c7b4c",
        "colab": {
          "base_uri": "https://localhost:8080/",
          "height": 377
        }
      },
      "source": [
        "!nvidia-smi\n",
        "!ps -aux|grep python"
      ],
      "execution_count": 32,
      "outputs": [
        {
          "output_type": "stream",
          "text": [
            "Sun Jun  7 14:47:00 2020       \n",
            "+-----------------------------------------------------------------------------+\n",
            "| NVIDIA-SMI 440.82       Driver Version: 418.67       CUDA Version: 10.1     |\n",
            "|-------------------------------+----------------------+----------------------+\n",
            "| GPU  Name        Persistence-M| Bus-Id        Disp.A | Volatile Uncorr. ECC |\n",
            "| Fan  Temp  Perf  Pwr:Usage/Cap|         Memory-Usage | GPU-Util  Compute M. |\n",
            "|===============================+======================+======================|\n",
            "|   0  Tesla T4            Off  | 00000000:00:04.0 Off |                    0 |\n",
            "| N/A   69C    P0    32W /  70W |   5045MiB / 15079MiB |      0%      Default |\n",
            "+-------------------------------+----------------------+----------------------+\n",
            "                                                                               \n",
            "+-----------------------------------------------------------------------------+\n",
            "| Processes:                                                       GPU Memory |\n",
            "|  GPU       PID   Type   Process name                             Usage      |\n",
            "|=============================================================================|\n",
            "+-----------------------------------------------------------------------------+\n",
            "root          25  0.1  0.8 439136 107276 ?       Sl   11:20   0:16 /usr/bin/python2 /usr/local/bin/jupyter-notebook --ip=\"172.28.0.2\" --port=9000 --FileContentsManager.root_dir=\"/\" --MappingKernelManager.root_dir=\"/content\"\n",
            "root         573 86.0 38.7 18726772 5166248 ?    Ssl  13:11  82:01 /usr/bin/python3 -m ipykernel_launcher -f /root/.local/share/jupyter/runtime/kernel-01f61465-e255-4a8a-a458-03ba3b0730de.json\n",
            "root         722  0.0  0.0  39196  6468 ?        S    14:47   0:00 /bin/bash -c ps -aux|grep python\n",
            "root         724  0.0  0.0  38572  5032 ?        S    14:47   0:00 grep python\n"
          ],
          "name": "stdout"
        }
      ]
    },
    {
      "cell_type": "code",
      "metadata": {
        "id": "uSnZeZDFo6Bd",
        "colab_type": "code",
        "colab": {}
      },
      "source": [
        "!kill -9 573"
      ],
      "execution_count": 0,
      "outputs": []
    },
    {
      "cell_type": "code",
      "metadata": {
        "id": "SWO1lKRhxWe8",
        "colab_type": "code",
        "outputId": "f990a982-aa82-4569-b4c7-9ccf613ff4d3",
        "colab": {
          "base_uri": "https://localhost:8080/",
          "height": 34
        }
      },
      "source": [
        "import tensorflow as tf\n",
        "\n",
        "device_name = tf.test.gpu_device_name()\n",
        "if device_name != '/device:GPU:0':\n",
        "  raise SystemError('GPU device not found')\n",
        "print('Found GPU at: {}'.format(device_name))"
      ],
      "execution_count": 1,
      "outputs": [
        {
          "output_type": "stream",
          "text": [
            "Found GPU at: /device:GPU:0\n"
          ],
          "name": "stdout"
        }
      ]
    },
    {
      "cell_type": "code",
      "metadata": {
        "id": "pKPcABgbpMOs",
        "colab_type": "code",
        "outputId": "09534a1d-7807-49aa-93e0-ab5d8087db63",
        "colab": {
          "base_uri": "https://localhost:8080/",
          "height": 615
        }
      },
      "source": [
        "!pip install transformers"
      ],
      "execution_count": 3,
      "outputs": [
        {
          "output_type": "stream",
          "text": [
            "Collecting transformers\n",
            "\u001b[?25l  Downloading https://files.pythonhosted.org/packages/48/35/ad2c5b1b8f99feaaf9d7cdadaeef261f098c6e1a6a2935d4d07662a6b780/transformers-2.11.0-py3-none-any.whl (674kB)\n",
            "\r\u001b[K     |▌                               | 10kB 28.3MB/s eta 0:00:01\r\u001b[K     |█                               | 20kB 5.8MB/s eta 0:00:01\r\u001b[K     |█▌                              | 30kB 6.9MB/s eta 0:00:01\r\u001b[K     |██                              | 40kB 7.4MB/s eta 0:00:01\r\u001b[K     |██▍                             | 51kB 6.8MB/s eta 0:00:01\r\u001b[K     |███                             | 61kB 7.7MB/s eta 0:00:01\r\u001b[K     |███▍                            | 71kB 7.6MB/s eta 0:00:01\r\u001b[K     |███▉                            | 81kB 8.5MB/s eta 0:00:01\r\u001b[K     |████▍                           | 92kB 8.1MB/s eta 0:00:01\r\u001b[K     |████▉                           | 102kB 8.3MB/s eta 0:00:01\r\u001b[K     |█████▍                          | 112kB 8.3MB/s eta 0:00:01\r\u001b[K     |█████▉                          | 122kB 8.3MB/s eta 0:00:01\r\u001b[K     |██████▎                         | 133kB 8.3MB/s eta 0:00:01\r\u001b[K     |██████▉                         | 143kB 8.3MB/s eta 0:00:01\r\u001b[K     |███████▎                        | 153kB 8.3MB/s eta 0:00:01\r\u001b[K     |███████▊                        | 163kB 8.3MB/s eta 0:00:01\r\u001b[K     |████████▎                       | 174kB 8.3MB/s eta 0:00:01\r\u001b[K     |████████▊                       | 184kB 8.3MB/s eta 0:00:01\r\u001b[K     |█████████▎                      | 194kB 8.3MB/s eta 0:00:01\r\u001b[K     |█████████▊                      | 204kB 8.3MB/s eta 0:00:01\r\u001b[K     |██████████▏                     | 215kB 8.3MB/s eta 0:00:01\r\u001b[K     |██████████▊                     | 225kB 8.3MB/s eta 0:00:01\r\u001b[K     |███████████▏                    | 235kB 8.3MB/s eta 0:00:01\r\u001b[K     |███████████▋                    | 245kB 8.3MB/s eta 0:00:01\r\u001b[K     |████████████▏                   | 256kB 8.3MB/s eta 0:00:01\r\u001b[K     |████████████▋                   | 266kB 8.3MB/s eta 0:00:01\r\u001b[K     |█████████████                   | 276kB 8.3MB/s eta 0:00:01\r\u001b[K     |█████████████▋                  | 286kB 8.3MB/s eta 0:00:01\r\u001b[K     |██████████████                  | 296kB 8.3MB/s eta 0:00:01\r\u001b[K     |██████████████▋                 | 307kB 8.3MB/s eta 0:00:01\r\u001b[K     |███████████████                 | 317kB 8.3MB/s eta 0:00:01\r\u001b[K     |███████████████▌                | 327kB 8.3MB/s eta 0:00:01\r\u001b[K     |████████████████                | 337kB 8.3MB/s eta 0:00:01\r\u001b[K     |████████████████▌               | 348kB 8.3MB/s eta 0:00:01\r\u001b[K     |█████████████████               | 358kB 8.3MB/s eta 0:00:01\r\u001b[K     |█████████████████▌              | 368kB 8.3MB/s eta 0:00:01\r\u001b[K     |██████████████████              | 378kB 8.3MB/s eta 0:00:01\r\u001b[K     |██████████████████▌             | 389kB 8.3MB/s eta 0:00:01\r\u001b[K     |███████████████████             | 399kB 8.3MB/s eta 0:00:01\r\u001b[K     |███████████████████▍            | 409kB 8.3MB/s eta 0:00:01\r\u001b[K     |████████████████████            | 419kB 8.3MB/s eta 0:00:01\r\u001b[K     |████████████████████▍           | 430kB 8.3MB/s eta 0:00:01\r\u001b[K     |████████████████████▉           | 440kB 8.3MB/s eta 0:00:01\r\u001b[K     |█████████████████████▍          | 450kB 8.3MB/s eta 0:00:01\r\u001b[K     |█████████████████████▉          | 460kB 8.3MB/s eta 0:00:01\r\u001b[K     |██████████████████████▍         | 471kB 8.3MB/s eta 0:00:01\r\u001b[K     |██████████████████████▉         | 481kB 8.3MB/s eta 0:00:01\r\u001b[K     |███████████████████████▎        | 491kB 8.3MB/s eta 0:00:01\r\u001b[K     |███████████████████████▉        | 501kB 8.3MB/s eta 0:00:01\r\u001b[K     |████████████████████████▎       | 512kB 8.3MB/s eta 0:00:01\r\u001b[K     |████████████████████████▊       | 522kB 8.3MB/s eta 0:00:01\r\u001b[K     |█████████████████████████▎      | 532kB 8.3MB/s eta 0:00:01\r\u001b[K     |█████████████████████████▊      | 542kB 8.3MB/s eta 0:00:01\r\u001b[K     |██████████████████████████▏     | 552kB 8.3MB/s eta 0:00:01\r\u001b[K     |██████████████████████████▊     | 563kB 8.3MB/s eta 0:00:01\r\u001b[K     |███████████████████████████▏    | 573kB 8.3MB/s eta 0:00:01\r\u001b[K     |███████████████████████████▊    | 583kB 8.3MB/s eta 0:00:01\r\u001b[K     |████████████████████████████▏   | 593kB 8.3MB/s eta 0:00:01\r\u001b[K     |████████████████████████████▋   | 604kB 8.3MB/s eta 0:00:01\r\u001b[K     |█████████████████████████████▏  | 614kB 8.3MB/s eta 0:00:01\r\u001b[K     |█████████████████████████████▋  | 624kB 8.3MB/s eta 0:00:01\r\u001b[K     |██████████████████████████████  | 634kB 8.3MB/s eta 0:00:01\r\u001b[K     |██████████████████████████████▋ | 645kB 8.3MB/s eta 0:00:01\r\u001b[K     |███████████████████████████████ | 655kB 8.3MB/s eta 0:00:01\r\u001b[K     |███████████████████████████████▋| 665kB 8.3MB/s eta 0:00:01\r\u001b[K     |████████████████████████████████| 675kB 8.3MB/s \n",
            "\u001b[?25hRequirement already satisfied: packaging in /usr/local/lib/python3.6/dist-packages (from transformers) (20.4)\n",
            "Collecting sentencepiece\n",
            "\u001b[?25l  Downloading https://files.pythonhosted.org/packages/d4/a4/d0a884c4300004a78cca907a6ff9a5e9fe4f090f5d95ab341c53d28cbc58/sentencepiece-0.1.91-cp36-cp36m-manylinux1_x86_64.whl (1.1MB)\n",
            "\r\u001b[K     |▎                               | 10kB 27.6MB/s eta 0:00:01\r\u001b[K     |▋                               | 20kB 35.4MB/s eta 0:00:01\r\u001b[K     |█                               | 30kB 42.3MB/s eta 0:00:01\r\u001b[K     |█▏                              | 40kB 30.2MB/s eta 0:00:01\r\u001b[K     |█▌                              | 51kB 32.8MB/s eta 0:00:01\r\u001b[K     |█▉                              | 61kB 36.2MB/s eta 0:00:01\r\u001b[K     |██▏                             | 71kB 19.8MB/s eta 0:00:01\r\u001b[K     |██▍                             | 81kB 21.6MB/s eta 0:00:01\r\u001b[K     |██▊                             | 92kB 23.4MB/s eta 0:00:01\r\u001b[K     |███                             | 102kB 22.1MB/s eta 0:00:01\r\u001b[K     |███▍                            | 112kB 22.1MB/s eta 0:00:01\r\u001b[K     |███▋                            | 122kB 22.1MB/s eta 0:00:01\r\u001b[K     |████                            | 133kB 22.1MB/s eta 0:00:01\r\u001b[K     |████▎                           | 143kB 22.1MB/s eta 0:00:01\r\u001b[K     |████▋                           | 153kB 22.1MB/s eta 0:00:01\r\u001b[K     |████▉                           | 163kB 22.1MB/s eta 0:00:01\r\u001b[K     |█████▏                          | 174kB 22.1MB/s eta 0:00:01\r\u001b[K     |█████▌                          | 184kB 22.1MB/s eta 0:00:01\r\u001b[K     |█████▉                          | 194kB 22.1MB/s eta 0:00:01\r\u001b[K     |██████                          | 204kB 22.1MB/s eta 0:00:01\r\u001b[K     |██████▍                         | 215kB 22.1MB/s eta 0:00:01\r\u001b[K     |██████▊                         | 225kB 22.1MB/s eta 0:00:01\r\u001b[K     |███████                         | 235kB 22.1MB/s eta 0:00:01\r\u001b[K     |███████▎                        | 245kB 22.1MB/s eta 0:00:01\r\u001b[K     |███████▋                        | 256kB 22.1MB/s eta 0:00:01\r\u001b[K     |████████                        | 266kB 22.1MB/s eta 0:00:01\r\u001b[K     |████████▎                       | 276kB 22.1MB/s eta 0:00:01\r\u001b[K     |████████▌                       | 286kB 22.1MB/s eta 0:00:01\r\u001b[K     |████████▉                       | 296kB 22.1MB/s eta 0:00:01\r\u001b[K     |█████████▏                      | 307kB 22.1MB/s eta 0:00:01\r\u001b[K     |█████████▌                      | 317kB 22.1MB/s eta 0:00:01\r\u001b[K     |█████████▊                      | 327kB 22.1MB/s eta 0:00:01\r\u001b[K     |██████████                      | 337kB 22.1MB/s eta 0:00:01\r\u001b[K     |██████████▍                     | 348kB 22.1MB/s eta 0:00:01\r\u001b[K     |██████████▊                     | 358kB 22.1MB/s eta 0:00:01\r\u001b[K     |███████████                     | 368kB 22.1MB/s eta 0:00:01\r\u001b[K     |███████████▎                    | 378kB 22.1MB/s eta 0:00:01\r\u001b[K     |███████████▋                    | 389kB 22.1MB/s eta 0:00:01\r\u001b[K     |████████████                    | 399kB 22.1MB/s eta 0:00:01\r\u001b[K     |████████████▏                   | 409kB 22.1MB/s eta 0:00:01\r\u001b[K     |████████████▌                   | 419kB 22.1MB/s eta 0:00:01\r\u001b[K     |████████████▉                   | 430kB 22.1MB/s eta 0:00:01\r\u001b[K     |█████████████▏                  | 440kB 22.1MB/s eta 0:00:01\r\u001b[K     |█████████████▍                  | 450kB 22.1MB/s eta 0:00:01\r\u001b[K     |█████████████▊                  | 460kB 22.1MB/s eta 0:00:01\r\u001b[K     |██████████████                  | 471kB 22.1MB/s eta 0:00:01\r\u001b[K     |██████████████▍                 | 481kB 22.1MB/s eta 0:00:01\r\u001b[K     |██████████████▋                 | 491kB 22.1MB/s eta 0:00:01\r\u001b[K     |███████████████                 | 501kB 22.1MB/s eta 0:00:01\r\u001b[K     |███████████████▎                | 512kB 22.1MB/s eta 0:00:01\r\u001b[K     |███████████████▋                | 522kB 22.1MB/s eta 0:00:01\r\u001b[K     |███████████████▉                | 532kB 22.1MB/s eta 0:00:01\r\u001b[K     |████████████████▏               | 542kB 22.1MB/s eta 0:00:01\r\u001b[K     |████████████████▌               | 552kB 22.1MB/s eta 0:00:01\r\u001b[K     |████████████████▉               | 563kB 22.1MB/s eta 0:00:01\r\u001b[K     |█████████████████               | 573kB 22.1MB/s eta 0:00:01\r\u001b[K     |█████████████████▍              | 583kB 22.1MB/s eta 0:00:01\r\u001b[K     |█████████████████▊              | 593kB 22.1MB/s eta 0:00:01\r\u001b[K     |██████████████████              | 604kB 22.1MB/s eta 0:00:01\r\u001b[K     |██████████████████▎             | 614kB 22.1MB/s eta 0:00:01\r\u001b[K     |██████████████████▋             | 624kB 22.1MB/s eta 0:00:01\r\u001b[K     |███████████████████             | 634kB 22.1MB/s eta 0:00:01\r\u001b[K     |███████████████████▎            | 645kB 22.1MB/s eta 0:00:01\r\u001b[K     |███████████████████▌            | 655kB 22.1MB/s eta 0:00:01\r\u001b[K     |███████████████████▉            | 665kB 22.1MB/s eta 0:00:01\r\u001b[K     |████████████████████▏           | 675kB 22.1MB/s eta 0:00:01\r\u001b[K     |████████████████████▌           | 686kB 22.1MB/s eta 0:00:01\r\u001b[K     |████████████████████▊           | 696kB 22.1MB/s eta 0:00:01\r\u001b[K     |█████████████████████           | 706kB 22.1MB/s eta 0:00:01\r\u001b[K     |█████████████████████▍          | 716kB 22.1MB/s eta 0:00:01\r\u001b[K     |█████████████████████▋          | 727kB 22.1MB/s eta 0:00:01\r\u001b[K     |██████████████████████          | 737kB 22.1MB/s eta 0:00:01\r\u001b[K     |██████████████████████▎         | 747kB 22.1MB/s eta 0:00:01\r\u001b[K     |██████████████████████▋         | 757kB 22.1MB/s eta 0:00:01\r\u001b[K     |██████████████████████▉         | 768kB 22.1MB/s eta 0:00:01\r\u001b[K     |███████████████████████▏        | 778kB 22.1MB/s eta 0:00:01\r\u001b[K     |███████████████████████▌        | 788kB 22.1MB/s eta 0:00:01\r\u001b[K     |███████████████████████▉        | 798kB 22.1MB/s eta 0:00:01\r\u001b[K     |████████████████████████        | 808kB 22.1MB/s eta 0:00:01\r\u001b[K     |████████████████████████▍       | 819kB 22.1MB/s eta 0:00:01\r\u001b[K     |████████████████████████▊       | 829kB 22.1MB/s eta 0:00:01\r\u001b[K     |█████████████████████████       | 839kB 22.1MB/s eta 0:00:01\r\u001b[K     |█████████████████████████▎      | 849kB 22.1MB/s eta 0:00:01\r\u001b[K     |█████████████████████████▋      | 860kB 22.1MB/s eta 0:00:01\r\u001b[K     |██████████████████████████      | 870kB 22.1MB/s eta 0:00:01\r\u001b[K     |██████████████████████████▎     | 880kB 22.1MB/s eta 0:00:01\r\u001b[K     |██████████████████████████▌     | 890kB 22.1MB/s eta 0:00:01\r\u001b[K     |██████████████████████████▉     | 901kB 22.1MB/s eta 0:00:01\r\u001b[K     |███████████████████████████▏    | 911kB 22.1MB/s eta 0:00:01\r\u001b[K     |███████████████████████████▌    | 921kB 22.1MB/s eta 0:00:01\r\u001b[K     |███████████████████████████▊    | 931kB 22.1MB/s eta 0:00:01\r\u001b[K     |████████████████████████████    | 942kB 22.1MB/s eta 0:00:01\r\u001b[K     |████████████████████████████▍   | 952kB 22.1MB/s eta 0:00:01\r\u001b[K     |████████████████████████████▊   | 962kB 22.1MB/s eta 0:00:01\r\u001b[K     |█████████████████████████████   | 972kB 22.1MB/s eta 0:00:01\r\u001b[K     |█████████████████████████████▎  | 983kB 22.1MB/s eta 0:00:01\r\u001b[K     |█████████████████████████████▋  | 993kB 22.1MB/s eta 0:00:01\r\u001b[K     |██████████████████████████████  | 1.0MB 22.1MB/s eta 0:00:01\r\u001b[K     |██████████████████████████████▏ | 1.0MB 22.1MB/s eta 0:00:01\r\u001b[K     |██████████████████████████████▌ | 1.0MB 22.1MB/s eta 0:00:01\r\u001b[K     |██████████████████████████████▉ | 1.0MB 22.1MB/s eta 0:00:01\r\u001b[K     |███████████████████████████████▏| 1.0MB 22.1MB/s eta 0:00:01\r\u001b[K     |███████████████████████████████▍| 1.1MB 22.1MB/s eta 0:00:01\r\u001b[K     |███████████████████████████████▊| 1.1MB 22.1MB/s eta 0:00:01\r\u001b[K     |████████████████████████████████| 1.1MB 22.1MB/s \n",
            "\u001b[?25hRequirement already satisfied: dataclasses; python_version < \"3.7\" in /usr/local/lib/python3.6/dist-packages (from transformers) (0.7)\n",
            "Requirement already satisfied: requests in /usr/local/lib/python3.6/dist-packages (from transformers) (2.23.0)\n",
            "Collecting sacremoses\n",
            "\u001b[?25l  Downloading https://files.pythonhosted.org/packages/7d/34/09d19aff26edcc8eb2a01bed8e98f13a1537005d31e95233fd48216eed10/sacremoses-0.0.43.tar.gz (883kB)\n",
            "\u001b[K     |████████████████████████████████| 890kB 48.2MB/s \n",
            "\u001b[?25hRequirement already satisfied: numpy in /usr/local/lib/python3.6/dist-packages (from transformers) (1.18.4)\n",
            "Requirement already satisfied: tqdm>=4.27 in /usr/local/lib/python3.6/dist-packages (from transformers) (4.41.1)\n",
            "Collecting tokenizers==0.7.0\n",
            "\u001b[?25l  Downloading https://files.pythonhosted.org/packages/14/e5/a26eb4716523808bb0a799fcfdceb6ebf77a18169d9591b2f46a9adb87d9/tokenizers-0.7.0-cp36-cp36m-manylinux1_x86_64.whl (3.8MB)\n",
            "\u001b[K     |████████████████████████████████| 3.8MB 35.2MB/s \n",
            "\u001b[?25hRequirement already satisfied: regex!=2019.12.17 in /usr/local/lib/python3.6/dist-packages (from transformers) (2019.12.20)\n",
            "Requirement already satisfied: filelock in /usr/local/lib/python3.6/dist-packages (from transformers) (3.0.12)\n",
            "Requirement already satisfied: pyparsing>=2.0.2 in /usr/local/lib/python3.6/dist-packages (from packaging->transformers) (2.4.7)\n",
            "Requirement already satisfied: six in /usr/local/lib/python3.6/dist-packages (from packaging->transformers) (1.12.0)\n",
            "Requirement already satisfied: idna<3,>=2.5 in /usr/local/lib/python3.6/dist-packages (from requests->transformers) (2.9)\n",
            "Requirement already satisfied: urllib3!=1.25.0,!=1.25.1,<1.26,>=1.21.1 in /usr/local/lib/python3.6/dist-packages (from requests->transformers) (1.24.3)\n",
            "Requirement already satisfied: certifi>=2017.4.17 in /usr/local/lib/python3.6/dist-packages (from requests->transformers) (2020.4.5.1)\n",
            "Requirement already satisfied: chardet<4,>=3.0.2 in /usr/local/lib/python3.6/dist-packages (from requests->transformers) (3.0.4)\n",
            "Requirement already satisfied: click in /usr/local/lib/python3.6/dist-packages (from sacremoses->transformers) (7.1.2)\n",
            "Requirement already satisfied: joblib in /usr/local/lib/python3.6/dist-packages (from sacremoses->transformers) (0.15.1)\n",
            "Building wheels for collected packages: sacremoses\n",
            "  Building wheel for sacremoses (setup.py) ... \u001b[?25l\u001b[?25hdone\n",
            "  Created wheel for sacremoses: filename=sacremoses-0.0.43-cp36-none-any.whl size=893260 sha256=a6e82155ae8cf847256c08619ae241c03c76933261ae62f3ab754151b7cbbe77\n",
            "  Stored in directory: /root/.cache/pip/wheels/29/3c/fd/7ce5c3f0666dab31a50123635e6fb5e19ceb42ce38d4e58f45\n",
            "Successfully built sacremoses\n",
            "Installing collected packages: sentencepiece, sacremoses, tokenizers, transformers\n",
            "Successfully installed sacremoses-0.0.43 sentencepiece-0.1.91 tokenizers-0.7.0 transformers-2.11.0\n"
          ],
          "name": "stdout"
        }
      ]
    },
    {
      "cell_type": "code",
      "metadata": {
        "id": "oK-AxWMGBdJ2",
        "colab_type": "code",
        "outputId": "16333325-69a6-414b-9b03-c755b3ac6e68",
        "colab": {
          "base_uri": "https://localhost:8080/",
          "height": 34
        }
      },
      "source": [
        "import torch\n",
        "from torch.utils.data import TensorDataset, DataLoader, RandomSampler, SequentialSampler\n",
        "from keras.preprocessing.sequence import pad_sequences\n",
        "from sklearn.model_selection import train_test_split\n",
        "\n",
        "\n",
        "from transformers import XLNetModel, XLNetTokenizer, XLNetForSequenceClassification\n",
        "from transformers import AdamW\n",
        "\n",
        "from tqdm import tqdm, trange\n",
        "import pandas as pd\n",
        "import io\n",
        "import numpy as np\n",
        "import matplotlib.pyplot as plt\n",
        "% matplotlib inline"
      ],
      "execution_count": 2,
      "outputs": [
        {
          "output_type": "stream",
          "text": [
            "Using TensorFlow backend.\n"
          ],
          "name": "stderr"
        }
      ]
    },
    {
      "cell_type": "code",
      "metadata": {
        "id": "mUjR1PHiBkTV",
        "colab_type": "code",
        "outputId": "46f0b1bc-c7ef-40d8-f749-a9e6526f1ab1",
        "colab": {
          "base_uri": "https://localhost:8080/",
          "height": 34
        }
      },
      "source": [
        "device = torch.device(\"cuda\" if torch.cuda.is_available() else \"cpu\")\n",
        "n_gpu = torch.cuda.device_count()\n",
        "torch.cuda.get_device_name(0)"
      ],
      "execution_count": 3,
      "outputs": [
        {
          "output_type": "execute_result",
          "data": {
            "text/plain": [
              "'Tesla T4'"
            ]
          },
          "metadata": {
            "tags": []
          },
          "execution_count": 3
        }
      ]
    },
    {
      "cell_type": "code",
      "metadata": {
        "id": "0wY4avPfBYcc",
        "colab_type": "code",
        "outputId": "55224662-31dd-4b0f-9710-57ec48ad22b8",
        "colab": {
          "resources": {
            "http://localhost:8080/nbextensions/google.colab/files.js": {
              "data": "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",
              "ok": true,
              "headers": [
                [
                  "content-type",
                  "application/javascript"
                ]
              ],
              "status": 200,
              "status_text": ""
            }
          },
          "base_uri": "https://localhost:8080/",
          "height": 74
        }
      },
      "source": [
        "# Upload the train file from your local drive\n",
        "from google.colab import files\n",
        "uploaded = files.upload()"
      ],
      "execution_count": 7,
      "outputs": [
        {
          "output_type": "display_data",
          "data": {
            "text/html": [
              "\n",
              "     <input type=\"file\" id=\"files-4013d603-958d-4d27-9361-5c85b98cc374\" name=\"files[]\" multiple disabled />\n",
              "     <output id=\"result-4013d603-958d-4d27-9361-5c85b98cc374\">\n",
              "      Upload widget is only available when the cell has been executed in the\n",
              "      current browser session. Please rerun this cell to enable.\n",
              "      </output>\n",
              "      <script src=\"/nbextensions/google.colab/files.js\"></script> "
            ],
            "text/plain": [
              "<IPython.core.display.HTML object>"
            ]
          },
          "metadata": {
            "tags": []
          }
        },
        {
          "output_type": "stream",
          "text": [
            "Saving final_lean_sample.pkl to final_lean_sample.pkl\n"
          ],
          "name": "stdout"
        }
      ]
    },
    {
      "cell_type": "code",
      "metadata": {
        "id": "_vS3iRbRgD4h",
        "colab_type": "code",
        "colab": {}
      },
      "source": [
        "df_original = pd.read_pickle(\"./final_lean_sample.pkl\")\n",
        "df = df_original[:6361]"
      ],
      "execution_count": 0,
      "outputs": []
    },
    {
      "cell_type": "code",
      "metadata": {
        "id": "FE0CJye9gmT3",
        "colab_type": "code",
        "outputId": "c0cdd1e2-ccc6-4055-b588-d59ac3d21d23",
        "colab": {
          "base_uri": "https://localhost:8080/",
          "height": 34
        }
      },
      "source": [
        "df.shape"
      ],
      "execution_count": 5,
      "outputs": [
        {
          "output_type": "execute_result",
          "data": {
            "text/plain": [
              "(6361, 2)"
            ]
          },
          "metadata": {
            "tags": []
          },
          "execution_count": 5
        }
      ]
    },
    {
      "cell_type": "code",
      "metadata": {
        "id": "003RDIETgsJF",
        "colab_type": "code",
        "outputId": "946154aa-d8cb-442b-b471-3e32d2065e53",
        "colab": {
          "base_uri": "https://localhost:8080/",
          "height": 359
        }
      },
      "source": [
        "df.sample(10)"
      ],
      "execution_count": 6,
      "outputs": [
        {
          "output_type": "execute_result",
          "data": {
            "text/html": [
              "<div>\n",
              "<style scoped>\n",
              "    .dataframe tbody tr th:only-of-type {\n",
              "        vertical-align: middle;\n",
              "    }\n",
              "\n",
              "    .dataframe tbody tr th {\n",
              "        vertical-align: top;\n",
              "    }\n",
              "\n",
              "    .dataframe thead th {\n",
              "        text-align: right;\n",
              "    }\n",
              "</style>\n",
              "<table border=\"1\" class=\"dataframe\">\n",
              "  <thead>\n",
              "    <tr style=\"text-align: right;\">\n",
              "      <th></th>\n",
              "      <th>sales_sentiment</th>\n",
              "      <th>text</th>\n",
              "    </tr>\n",
              "  </thead>\n",
              "  <tbody>\n",
              "    <tr>\n",
              "      <th>121266</th>\n",
              "      <td>1</td>\n",
              "      <td>- April 20, 2005 - LaSalle Hotel Properties (...</td>\n",
              "    </tr>\n",
              "    <tr>\n",
              "      <th>27255</th>\n",
              "      <td>1</td>\n",
              "      <td>--May 9, 1994--Stone Energy (NYSE:SGY) reporte...</td>\n",
              "    </tr>\n",
              "    <tr>\n",
              "      <th>125417</th>\n",
              "      <td>0</td>\n",
              "      <td>- April 26, 2006 - All financial information ...</td>\n",
              "    </tr>\n",
              "    <tr>\n",
              "      <th>112250</th>\n",
              "      <td>1</td>\n",
              "      <td>- April 27, 2004 -\\n\\nCompany Posts Record Qu...</td>\n",
              "    </tr>\n",
              "    <tr>\n",
              "      <th>115751</th>\n",
              "      <td>0</td>\n",
              "      <td>\\nNORTH CHELMSFORD, Mass.Courier Corporation (...</td>\n",
              "    </tr>\n",
              "    <tr>\n",
              "      <th>88971</th>\n",
              "      <td>1</td>\n",
              "      <td>--May 17, 2001--SIGA Technologies, Inc. (NASDA...</td>\n",
              "    </tr>\n",
              "    <tr>\n",
              "      <th>91582</th>\n",
              "      <td>1</td>\n",
              "      <td>--Nov. 15, 2001--Viseon, Inc. (OTCBB:VSNI), a ...</td>\n",
              "    </tr>\n",
              "    <tr>\n",
              "      <th>174480</th>\n",
              "      <td>0</td>\n",
              "      <td>--April 25, 2013-- \\nRTI Biologics Inc. (RTI) ...</td>\n",
              "    </tr>\n",
              "    <tr>\n",
              "      <th>30004</th>\n",
              "      <td>1</td>\n",
              "      <td>--EZCORP, Inc. (Nasdaq/NM: EZPW) today announc...</td>\n",
              "    </tr>\n",
              "    <tr>\n",
              "      <th>74091</th>\n",
              "      <td>0</td>\n",
              "      <td>--Jan. 26, 1999--Health Systems Design Corp. (...</td>\n",
              "    </tr>\n",
              "  </tbody>\n",
              "</table>\n",
              "</div>"
            ],
            "text/plain": [
              "        sales_sentiment                                               text\n",
              "121266                1   - April 20, 2005 - LaSalle Hotel Properties (...\n",
              "27255                 1  --May 9, 1994--Stone Energy (NYSE:SGY) reporte...\n",
              "125417                0   - April 26, 2006 - All financial information ...\n",
              "112250                1   - April 27, 2004 -\\n\\nCompany Posts Record Qu...\n",
              "115751                0  \\nNORTH CHELMSFORD, Mass.Courier Corporation (...\n",
              "88971                 1  --May 17, 2001--SIGA Technologies, Inc. (NASDA...\n",
              "91582                 1  --Nov. 15, 2001--Viseon, Inc. (OTCBB:VSNI), a ...\n",
              "174480                0  --April 25, 2013-- \\nRTI Biologics Inc. (RTI) ...\n",
              "30004                 1  --EZCORP, Inc. (Nasdaq/NM: EZPW) today announc...\n",
              "74091                 0  --Jan. 26, 1999--Health Systems Design Corp. (..."
            ]
          },
          "metadata": {
            "tags": []
          },
          "execution_count": 6
        }
      ]
    },
    {
      "cell_type": "code",
      "metadata": {
        "id": "S9fLKQcegwRo",
        "colab_type": "code",
        "colab": {}
      },
      "source": [
        "sentences = df.text.values"
      ],
      "execution_count": 0,
      "outputs": []
    },
    {
      "cell_type": "code",
      "metadata": {
        "id": "HsZXHJfvhBnC",
        "colab_type": "code",
        "colab": {}
      },
      "source": [
        "sentences = [sentence + \" [SEP] [CLS]\" for sentence in sentences]\n",
        "labels = df.sales_sentiment.values"
      ],
      "execution_count": 0,
      "outputs": []
    },
    {
      "cell_type": "code",
      "metadata": {
        "id": "4oaboKQUhD3q",
        "colab_type": "code",
        "outputId": "fc330adf-2a8d-4456-892f-ce1d90c06dea",
        "colab": {
          "base_uri": "https://localhost:8080/",
          "height": 71
        }
      },
      "source": [
        "tokenizer = XLNetTokenizer.from_pretrained('xlnet-base-cased', do_lower_case=True)\n",
        "\n",
        "tokenized_texts = [tokenizer.tokenize(sent) for sent in sentences]\n",
        "print (\"Tokenize the first sentence:\")\n",
        "print (tokenized_texts[0])\n"
      ],
      "execution_count": 9,
      "outputs": [
        {
          "output_type": "stream",
          "text": [
            "Tokenize the first sentence:\n",
            "['▁', '-', '-', 'ro', 'bert', '▁', 's', '.', '▁', 'w', 'iggins', ',', '▁chairman', '▁and', '▁chief', '▁executive', '▁officer', '▁of', '▁technology', '▁research', '▁', 'corp', '.', '▁', '(', 't', 'rc', ')', '▁', '(', 'nas', 'd', 'aq', ':', 'tr', 'ci', ')', ',', '▁', 'tu', 'es', 'day', '▁reported', '▁that', '▁the', '▁company', \"'\", 's', '▁revenues', '▁for', '▁the', '▁first', '▁quarter', '▁ended', '▁', 'jun', 'e', '▁30', '▁were', '▁$1', ',', '3', '79', ',', '99', '8', '▁compared', '▁to', '▁$1', ',', '94', '5', ',', '24', '5', '▁reported', '▁in', '▁the', '▁like', '▁quarter', '▁of', '▁the', '▁prior', '▁year', ',', '▁and', '▁the', '▁net', '▁loss', '▁for', '▁the', '▁current', '▁quarter', '▁was', '▁$39', '4', ',', '5', '25', '▁compared', '▁to', '▁net', '▁income', '▁of', '▁$10', ',', '4', '36', '▁for', '▁the', '▁prior', '▁year', \"'\", 's', '▁quarter', '.', 'w', 'iggins', '▁stated', '▁that', '▁sales', '▁of', '▁the', '▁company', \"'\", 's', '▁ground', '▁fault', '▁circuit', '▁interrupt', 'er', '▁', '(', '\"', 'g', 'f', 'ci', '\"', ')', '▁products', '▁were', '▁70', '▁percent', '▁of', '▁the', '▁total', '▁sales', '▁for', '▁the', '▁first', '▁fiscal', '▁quarter', '▁as', '▁compared', '▁to', '▁68', '▁percent', '▁in', '▁the', '▁like', '▁period', '▁in', '▁the', '▁prior', '▁year', '.', 'how', 'ever', ',', '▁', 'g', 'f', 'ci', '▁product', '▁sales', '▁reflect', '▁a', '▁decrease', '▁of', '▁approximately', '▁$400,000', '▁primarily', '▁caused', '▁by', '▁a', '▁delay', '▁in', '▁receiving', '▁certain', '▁orders', '▁from', '▁original', '▁equipment', '▁manufacturer', '▁', '(', '\"', 'o', 'em', '\"', ')', '▁customers', '▁that', '▁have', '▁been', '▁postponed', '▁to', '▁subsequent', '▁quarters', '▁and', '▁a', '▁general', '▁slowdown', '▁in', '▁the', '▁company', \"'\", 's', '▁markets', '.', 'in', '▁addition', ',', '▁military', '▁product', '▁sales', '▁decreased', '▁by', '▁approximately', '▁$21', '5,000', '▁during', '▁the', '▁current', '▁quarter', '▁reflecting', '▁the', '▁continued', '▁delay', '▁in', '▁the', '▁phase', 'over', '▁to', '▁the', '▁new', '▁tactical', '▁quiet', '▁electrical', '▁generator', '▁system', '.', 'this', '▁situation', '▁will', '▁continue', '▁to', '▁exist', '▁at', '▁least', '▁through', '▁the', '▁next', '▁two', '▁quarters', '.', 'the', '▁loss', '▁for', '▁the', '▁quarter', '▁can', '▁be', '▁attributed', '▁to', '▁the', '▁lower', '▁sales', '▁levels', '▁currently', '▁being', '▁experienced', '▁as', '▁well', '▁as', '▁an', '▁increase', '▁in', '▁expenses', ',', '▁particularly', '▁in', '▁the', '▁marketing', '▁area', '.', 'the', '▁company', '▁has', '▁implemented', '▁an', '▁aggressive', '▁cost', '▁reduction', '▁program', '▁to', '▁bring', '▁expenses', '▁more', '▁in', '▁line', '▁with', '▁revenues', '▁expected', '▁in', '▁the', '▁next', '▁several', '▁months', '.', 'the', '▁company', '▁believes', '▁that', '▁its', '▁operations', '▁will', '▁continue', '▁to', '▁be', '▁adversely', '▁affected', '▁until', '▁military', '▁shipments', '▁return', '▁to', '▁more', '▁normal', '▁levels', '▁and', '▁the', '▁change', '▁requiring', '▁electrical', '▁safety', '▁devices', '▁to', '▁be', '▁installed', '▁in', '▁certain', '▁personal', '▁groom', 'ing', '▁products', '▁is', '▁fully', '▁implemented', '.', 't', 'rc', ',', '▁a', '▁', 'flor', 'ida', '▁based', '▁corporation', ',', '▁is', '▁engaged', '▁in', '▁the', '▁design', ',', '▁development', ',', '▁manufacture', ',', '▁and', '▁marketing', '▁of', '▁electronic', '▁control', '▁and', '▁measurement', '▁devices', '▁related', '▁to', '▁the', '▁distribution', '▁of', '▁electrical', '▁power', '.', '▁[', 's', 'ep', ']', '▁[', 'cl', 's', ']']\n"
          ],
          "name": "stdout"
        }
      ]
    },
    {
      "cell_type": "code",
      "metadata": {
        "id": "MUc9zX-siSvc",
        "colab_type": "code",
        "colab": {}
      },
      "source": [
        "# Set the maximum sequence length. The longest sequence in our training set is 47, but we'll leave room on the end anyway. \n",
        "MAX_LEN = 512"
      ],
      "execution_count": 0,
      "outputs": []
    },
    {
      "cell_type": "code",
      "metadata": {
        "id": "kO8xfIFWiebz",
        "colab_type": "code",
        "colab": {}
      },
      "source": [
        "# Use the XLNet tokenizer to convert the tokens to their index numbers in the XLNet vocabulary\n",
        "input_ids = [tokenizer.convert_tokens_to_ids(x) for x in tokenized_texts]"
      ],
      "execution_count": 0,
      "outputs": []
    },
    {
      "cell_type": "code",
      "metadata": {
        "id": "vIqWQrLXiv4L",
        "colab_type": "code",
        "colab": {}
      },
      "source": [
        "# Pad our input tokens\n",
        "input_ids = pad_sequences(input_ids, maxlen=MAX_LEN, dtype=\"long\", truncating=\"post\", padding=\"post\")"
      ],
      "execution_count": 0,
      "outputs": []
    },
    {
      "cell_type": "code",
      "metadata": {
        "id": "RXMDzCSni0Ok",
        "colab_type": "code",
        "colab": {}
      },
      "source": [
        "# Create attention masks\n",
        "attention_masks = []\n",
        "\n",
        "# Create a mask of 1s for each token followed by 0s for padding\n",
        "for seq in input_ids:\n",
        "  seq_mask = [float(i>0) for i in seq]\n",
        "  attention_masks.append(seq_mask)"
      ],
      "execution_count": 0,
      "outputs": []
    },
    {
      "cell_type": "code",
      "metadata": {
        "id": "0oXwCysui8tw",
        "colab_type": "code",
        "colab": {}
      },
      "source": [
        "# Use train_test_split to split our data into train and validation sets for training\n",
        "\n",
        "train_inputs, validation_inputs, train_labels, validation_labels = train_test_split(input_ids, labels, \n",
        "                                                            random_state=2018, test_size=1414)\n",
        "train_masks, validation_masks, _, _ = train_test_split(attention_masks, input_ids,\n",
        "                                             random_state=2018, test_size=1414)"
      ],
      "execution_count": 0,
      "outputs": []
    },
    {
      "cell_type": "code",
      "metadata": {
        "id": "kE5kvcHTjEGI",
        "colab_type": "code",
        "colab": {}
      },
      "source": [
        "# Convert all of our data into torch tensors, the required datatype for our model\n",
        "\n",
        "train_inputs = torch.tensor(train_inputs)\n",
        "validation_inputs = torch.tensor(validation_inputs)\n",
        "train_labels = torch.tensor(train_labels)\n",
        "validation_labels = torch.tensor(validation_labels)\n",
        "train_masks = torch.tensor(train_masks)\n",
        "validation_masks = torch.tensor(validation_masks)"
      ],
      "execution_count": 0,
      "outputs": []
    },
    {
      "cell_type": "code",
      "metadata": {
        "id": "CdFEwYLAjMmO",
        "colab_type": "code",
        "colab": {}
      },
      "source": [
        "# Select a batch size for training. For fine-tuning with XLNet, the authors recommend a batch size of 32, 48, or 128. We will use 32 here to avoid memory issues.\n",
        "batch_size = 8\n",
        "\n",
        "# Create an iterator of our data with torch DataLoader. This helps save on memory during training because, unlike a for loop, \n",
        "# with an iterator the entire dataset does not need to be loaded into memory\n",
        "\n",
        "train_data = TensorDataset(train_inputs, train_masks, train_labels)\n",
        "train_sampler = RandomSampler(train_data)\n",
        "train_dataloader = DataLoader(train_data, sampler=train_sampler, batch_size=batch_size)\n",
        "\n",
        "validation_data = TensorDataset(validation_inputs, validation_masks, validation_labels)\n",
        "validation_sampler = SequentialSampler(validation_data)\n",
        "validation_dataloader = DataLoader(validation_data, sampler=validation_sampler, batch_size=batch_size)\n"
      ],
      "execution_count": 0,
      "outputs": []
    },
    {
      "cell_type": "code",
      "metadata": {
        "id": "YWDgrvLQjTbX",
        "colab_type": "code",
        "outputId": "53f15a7a-f9ac-42ba-ef33-336e424b8ef9",
        "colab": {
          "base_uri": "https://localhost:8080/",
          "height": 1000
        }
      },
      "source": [
        "# Load XLNEtForSequenceClassification, the pretrained XLNet model with a single linear classification layer on top. \n",
        "model = XLNetForSequenceClassification.from_pretrained(\"xlnet-base-cased\", num_labels=2)\n",
        "model.cuda()"
      ],
      "execution_count": 17,
      "outputs": [
        {
          "output_type": "execute_result",
          "data": {
            "text/plain": [
              "XLNetForSequenceClassification(\n",
              "  (transformer): XLNetModel(\n",
              "    (word_embedding): Embedding(32000, 768)\n",
              "    (layer): ModuleList(\n",
              "      (0): XLNetLayer(\n",
              "        (rel_attn): XLNetRelativeAttention(\n",
              "          (layer_norm): LayerNorm((768,), eps=1e-12, elementwise_affine=True)\n",
              "          (dropout): Dropout(p=0.1, inplace=False)\n",
              "        )\n",
              "        (ff): XLNetFeedForward(\n",
              "          (layer_norm): LayerNorm((768,), eps=1e-12, elementwise_affine=True)\n",
              "          (layer_1): Linear(in_features=768, out_features=3072, bias=True)\n",
              "          (layer_2): Linear(in_features=3072, out_features=768, bias=True)\n",
              "          (dropout): Dropout(p=0.1, inplace=False)\n",
              "        )\n",
              "        (dropout): Dropout(p=0.1, inplace=False)\n",
              "      )\n",
              "      (1): XLNetLayer(\n",
              "        (rel_attn): XLNetRelativeAttention(\n",
              "          (layer_norm): LayerNorm((768,), eps=1e-12, elementwise_affine=True)\n",
              "          (dropout): Dropout(p=0.1, inplace=False)\n",
              "        )\n",
              "        (ff): XLNetFeedForward(\n",
              "          (layer_norm): LayerNorm((768,), eps=1e-12, elementwise_affine=True)\n",
              "          (layer_1): Linear(in_features=768, out_features=3072, bias=True)\n",
              "          (layer_2): Linear(in_features=3072, out_features=768, bias=True)\n",
              "          (dropout): Dropout(p=0.1, inplace=False)\n",
              "        )\n",
              "        (dropout): Dropout(p=0.1, inplace=False)\n",
              "      )\n",
              "      (2): XLNetLayer(\n",
              "        (rel_attn): XLNetRelativeAttention(\n",
              "          (layer_norm): LayerNorm((768,), eps=1e-12, elementwise_affine=True)\n",
              "          (dropout): Dropout(p=0.1, inplace=False)\n",
              "        )\n",
              "        (ff): XLNetFeedForward(\n",
              "          (layer_norm): LayerNorm((768,), eps=1e-12, elementwise_affine=True)\n",
              "          (layer_1): Linear(in_features=768, out_features=3072, bias=True)\n",
              "          (layer_2): Linear(in_features=3072, out_features=768, bias=True)\n",
              "          (dropout): Dropout(p=0.1, inplace=False)\n",
              "        )\n",
              "        (dropout): Dropout(p=0.1, inplace=False)\n",
              "      )\n",
              "      (3): XLNetLayer(\n",
              "        (rel_attn): XLNetRelativeAttention(\n",
              "          (layer_norm): LayerNorm((768,), eps=1e-12, elementwise_affine=True)\n",
              "          (dropout): Dropout(p=0.1, inplace=False)\n",
              "        )\n",
              "        (ff): XLNetFeedForward(\n",
              "          (layer_norm): LayerNorm((768,), eps=1e-12, elementwise_affine=True)\n",
              "          (layer_1): Linear(in_features=768, out_features=3072, bias=True)\n",
              "          (layer_2): Linear(in_features=3072, out_features=768, bias=True)\n",
              "          (dropout): Dropout(p=0.1, inplace=False)\n",
              "        )\n",
              "        (dropout): Dropout(p=0.1, inplace=False)\n",
              "      )\n",
              "      (4): XLNetLayer(\n",
              "        (rel_attn): XLNetRelativeAttention(\n",
              "          (layer_norm): LayerNorm((768,), eps=1e-12, elementwise_affine=True)\n",
              "          (dropout): Dropout(p=0.1, inplace=False)\n",
              "        )\n",
              "        (ff): XLNetFeedForward(\n",
              "          (layer_norm): LayerNorm((768,), eps=1e-12, elementwise_affine=True)\n",
              "          (layer_1): Linear(in_features=768, out_features=3072, bias=True)\n",
              "          (layer_2): Linear(in_features=3072, out_features=768, bias=True)\n",
              "          (dropout): Dropout(p=0.1, inplace=False)\n",
              "        )\n",
              "        (dropout): Dropout(p=0.1, inplace=False)\n",
              "      )\n",
              "      (5): XLNetLayer(\n",
              "        (rel_attn): XLNetRelativeAttention(\n",
              "          (layer_norm): LayerNorm((768,), eps=1e-12, elementwise_affine=True)\n",
              "          (dropout): Dropout(p=0.1, inplace=False)\n",
              "        )\n",
              "        (ff): XLNetFeedForward(\n",
              "          (layer_norm): LayerNorm((768,), eps=1e-12, elementwise_affine=True)\n",
              "          (layer_1): Linear(in_features=768, out_features=3072, bias=True)\n",
              "          (layer_2): Linear(in_features=3072, out_features=768, bias=True)\n",
              "          (dropout): Dropout(p=0.1, inplace=False)\n",
              "        )\n",
              "        (dropout): Dropout(p=0.1, inplace=False)\n",
              "      )\n",
              "      (6): XLNetLayer(\n",
              "        (rel_attn): XLNetRelativeAttention(\n",
              "          (layer_norm): LayerNorm((768,), eps=1e-12, elementwise_affine=True)\n",
              "          (dropout): Dropout(p=0.1, inplace=False)\n",
              "        )\n",
              "        (ff): XLNetFeedForward(\n",
              "          (layer_norm): LayerNorm((768,), eps=1e-12, elementwise_affine=True)\n",
              "          (layer_1): Linear(in_features=768, out_features=3072, bias=True)\n",
              "          (layer_2): Linear(in_features=3072, out_features=768, bias=True)\n",
              "          (dropout): Dropout(p=0.1, inplace=False)\n",
              "        )\n",
              "        (dropout): Dropout(p=0.1, inplace=False)\n",
              "      )\n",
              "      (7): XLNetLayer(\n",
              "        (rel_attn): XLNetRelativeAttention(\n",
              "          (layer_norm): LayerNorm((768,), eps=1e-12, elementwise_affine=True)\n",
              "          (dropout): Dropout(p=0.1, inplace=False)\n",
              "        )\n",
              "        (ff): XLNetFeedForward(\n",
              "          (layer_norm): LayerNorm((768,), eps=1e-12, elementwise_affine=True)\n",
              "          (layer_1): Linear(in_features=768, out_features=3072, bias=True)\n",
              "          (layer_2): Linear(in_features=3072, out_features=768, bias=True)\n",
              "          (dropout): Dropout(p=0.1, inplace=False)\n",
              "        )\n",
              "        (dropout): Dropout(p=0.1, inplace=False)\n",
              "      )\n",
              "      (8): XLNetLayer(\n",
              "        (rel_attn): XLNetRelativeAttention(\n",
              "          (layer_norm): LayerNorm((768,), eps=1e-12, elementwise_affine=True)\n",
              "          (dropout): Dropout(p=0.1, inplace=False)\n",
              "        )\n",
              "        (ff): XLNetFeedForward(\n",
              "          (layer_norm): LayerNorm((768,), eps=1e-12, elementwise_affine=True)\n",
              "          (layer_1): Linear(in_features=768, out_features=3072, bias=True)\n",
              "          (layer_2): Linear(in_features=3072, out_features=768, bias=True)\n",
              "          (dropout): Dropout(p=0.1, inplace=False)\n",
              "        )\n",
              "        (dropout): Dropout(p=0.1, inplace=False)\n",
              "      )\n",
              "      (9): XLNetLayer(\n",
              "        (rel_attn): XLNetRelativeAttention(\n",
              "          (layer_norm): LayerNorm((768,), eps=1e-12, elementwise_affine=True)\n",
              "          (dropout): Dropout(p=0.1, inplace=False)\n",
              "        )\n",
              "        (ff): XLNetFeedForward(\n",
              "          (layer_norm): LayerNorm((768,), eps=1e-12, elementwise_affine=True)\n",
              "          (layer_1): Linear(in_features=768, out_features=3072, bias=True)\n",
              "          (layer_2): Linear(in_features=3072, out_features=768, bias=True)\n",
              "          (dropout): Dropout(p=0.1, inplace=False)\n",
              "        )\n",
              "        (dropout): Dropout(p=0.1, inplace=False)\n",
              "      )\n",
              "      (10): XLNetLayer(\n",
              "        (rel_attn): XLNetRelativeAttention(\n",
              "          (layer_norm): LayerNorm((768,), eps=1e-12, elementwise_affine=True)\n",
              "          (dropout): Dropout(p=0.1, inplace=False)\n",
              "        )\n",
              "        (ff): XLNetFeedForward(\n",
              "          (layer_norm): LayerNorm((768,), eps=1e-12, elementwise_affine=True)\n",
              "          (layer_1): Linear(in_features=768, out_features=3072, bias=True)\n",
              "          (layer_2): Linear(in_features=3072, out_features=768, bias=True)\n",
              "          (dropout): Dropout(p=0.1, inplace=False)\n",
              "        )\n",
              "        (dropout): Dropout(p=0.1, inplace=False)\n",
              "      )\n",
              "      (11): XLNetLayer(\n",
              "        (rel_attn): XLNetRelativeAttention(\n",
              "          (layer_norm): LayerNorm((768,), eps=1e-12, elementwise_affine=True)\n",
              "          (dropout): Dropout(p=0.1, inplace=False)\n",
              "        )\n",
              "        (ff): XLNetFeedForward(\n",
              "          (layer_norm): LayerNorm((768,), eps=1e-12, elementwise_affine=True)\n",
              "          (layer_1): Linear(in_features=768, out_features=3072, bias=True)\n",
              "          (layer_2): Linear(in_features=3072, out_features=768, bias=True)\n",
              "          (dropout): Dropout(p=0.1, inplace=False)\n",
              "        )\n",
              "        (dropout): Dropout(p=0.1, inplace=False)\n",
              "      )\n",
              "    )\n",
              "    (dropout): Dropout(p=0.1, inplace=False)\n",
              "  )\n",
              "  (sequence_summary): SequenceSummary(\n",
              "    (summary): Linear(in_features=768, out_features=768, bias=True)\n",
              "    (first_dropout): Identity()\n",
              "    (last_dropout): Dropout(p=0.1, inplace=False)\n",
              "  )\n",
              "  (logits_proj): Linear(in_features=768, out_features=2, bias=True)\n",
              ")"
            ]
          },
          "metadata": {
            "tags": []
          },
          "execution_count": 17
        }
      ]
    },
    {
      "cell_type": "code",
      "metadata": {
        "id": "jjzQRQvjqSyP",
        "colab_type": "code",
        "colab": {}
      },
      "source": [
        "param_optimizer = list(model.named_parameters())\n",
        "no_decay = ['bias', 'gamma', 'beta']\n",
        "optimizer_grouped_parameters = [\n",
        "    {'params': [p for n, p in param_optimizer if not any(nd in n for nd in no_decay)],\n",
        "     'weight_decay_rate': 0.01},\n",
        "    {'params': [p for n, p in param_optimizer if any(nd in n for nd in no_decay)],\n",
        "     'weight_decay_rate': 0.0}\n",
        "]"
      ],
      "execution_count": 0,
      "outputs": []
    },
    {
      "cell_type": "code",
      "metadata": {
        "id": "t5Wg2M9Pqaim",
        "colab_type": "code",
        "colab": {}
      },
      "source": [
        "# This variable contains all of the hyperparemeter information our training loop needs\n",
        "optimizer = AdamW(optimizer_grouped_parameters,\n",
        "                     lr=2e-5)"
      ],
      "execution_count": 0,
      "outputs": []
    },
    {
      "cell_type": "code",
      "metadata": {
        "id": "xTkR_zZCqfkW",
        "colab_type": "code",
        "colab": {}
      },
      "source": [
        "# Function to calculate the accuracy of our predictions vs labels\n",
        "def flat_accuracy(preds, labels):\n",
        "    pred_flat = np.argmax(preds, axis=1).flatten()\n",
        "    labels_flat = labels.flatten()\n",
        "    return np.sum(pred_flat == labels_flat) / len(labels_flat)"
      ],
      "execution_count": 0,
      "outputs": []
    },
    {
      "cell_type": "code",
      "metadata": {
        "id": "_H-CnkI4rybh",
        "colab_type": "code",
        "outputId": "32c3ca71-1ac9-4681-b800-dc1bdf9a390a",
        "colab": {
          "base_uri": "https://localhost:8080/",
          "height": 170
        }
      },
      "source": [
        "# Store our loss and accuracy for plotting\n",
        "train_loss_set = []\n",
        "\n",
        "# Number of training epochs (authors recommend between 2 and 4)\n",
        "epochs = 4\n",
        "\n",
        "# trange is a tqdm wrapper around the normal python range\n",
        "for _ in trange(epochs, desc=\"Epoch\"):\n",
        "  \n",
        "  # Training\n",
        "  \n",
        "  # Set our model to training mode (as opposed to evaluation mode)\n",
        "  model.train()\n",
        "  \n",
        "  # Tracking variables\n",
        "  tr_loss = 0\n",
        "  nb_tr_examples, nb_tr_steps = 0, 0\n",
        "\n",
        "  \n",
        "  # Train the data for one epoch\n",
        "  for step, batch in enumerate(train_dataloader):\n",
        "    # Add batch to GPU\n",
        "    batch = tuple(t.to(device) for t in batch)\n",
        "    # Unpack the inputs from our dataloader\n",
        "    b_input_ids, b_input_mask, b_labels = batch\n",
        "    # Clear out the gradients (by default they accumulate)\n",
        "    optimizer.zero_grad()\n",
        "    # Forward pass\n",
        "    outputs = model(b_input_ids, token_type_ids=None, attention_mask=b_input_mask, labels=b_labels)\n",
        "    loss = outputs[0]\n",
        "    logits = outputs[1]\n",
        "    train_loss_set.append(loss.item())    \n",
        "    # Backward pass\n",
        "    loss.backward()\n",
        "    # Update parameters and take a step using the computed gradient\n",
        "    optimizer.step()\n",
        "    \n",
        "    \n",
        "    # Update tracking variables\n",
        "    tr_loss += loss.item()\n",
        "    nb_tr_examples += b_input_ids.size(0)\n",
        "    nb_tr_steps += 1\n",
        "\n",
        "  print(\"Train loss: {}\".format(tr_loss/nb_tr_steps))\n",
        "    \n",
        "  # Validation\n",
        "\n",
        "  # Put model in evaluation mode to evaluate loss on the validation set\n",
        "  model.eval()\n",
        "\n",
        "  # Tracking variables \n",
        "  eval_loss, eval_accuracy = 0, 0\n",
        "  nb_eval_steps, nb_eval_examples = 0, 0\n",
        "\n",
        "  # Evaluate data for one epoch\n",
        "  for batch in validation_dataloader:\n",
        "    # Add batch to GPU\n",
        "    batch = tuple(t.to(device) for t in batch)\n",
        "    # Unpack the inputs from our dataloader\n",
        "    b_input_ids, b_input_mask, b_labels = batch\n",
        "    # Telling the model not to compute or store gradients, saving memory and speeding up validation\n",
        "    with torch.no_grad():\n",
        "      # Forward pass, calculate logit predictions\n",
        "      output = model(b_input_ids, token_type_ids=None, attention_mask=b_input_mask)\n",
        "      logits = output[0]\n",
        "    \n",
        "    # Move logits and labels to CPU\n",
        "    logits = logits.detach().cpu().numpy()\n",
        "    label_ids = b_labels.to('cpu').numpy()\n",
        "\n",
        "    tmp_eval_accuracy = flat_accuracy(logits, label_ids)\n",
        "    \n",
        "    eval_accuracy += tmp_eval_accuracy\n",
        "    nb_eval_steps += 1\n",
        "\n",
        "  print(\"Validation Accuracy: {}\".format(eval_accuracy/nb_eval_steps))"
      ],
      "execution_count": 21,
      "outputs": [
        {
          "output_type": "stream",
          "text": [
            "\rEpoch:   0%|          | 0/4 [00:00<?, ?it/s]"
          ],
          "name": "stderr"
        },
        {
          "output_type": "stream",
          "text": [
            "Train loss: 0.7090775165496235\n"
          ],
          "name": "stdout"
        },
        {
          "output_type": "stream",
          "text": [
            "\rEpoch:  25%|██▌       | 1/4 [01:43<05:09, 103.26s/it]"
          ],
          "name": "stderr"
        },
        {
          "output_type": "stream",
          "text": [
            "Validation Accuracy: 0.5244821092278719\n",
            "Train loss: 0.7035969420665685\n"
          ],
          "name": "stdout"
        },
        {
          "output_type": "stream",
          "text": [
            "\rEpoch:  50%|█████     | 2/4 [03:26<03:26, 103.30s/it]"
          ],
          "name": "stderr"
        },
        {
          "output_type": "stream",
          "text": [
            "Validation Accuracy: 0.4755178907721281\n",
            "Train loss: 0.7021699041272597\n"
          ],
          "name": "stdout"
        },
        {
          "output_type": "stream",
          "text": [
            "\rEpoch:  75%|███████▌  | 3/4 [05:09<01:43, 103.29s/it]"
          ],
          "name": "stderr"
        },
        {
          "output_type": "stream",
          "text": [
            "Validation Accuracy: 0.5244821092278719\n",
            "Train loss: 0.7019280216420409\n"
          ],
          "name": "stdout"
        },
        {
          "output_type": "stream",
          "text": [
            "Epoch: 100%|██████████| 4/4 [06:53<00:00, 103.30s/it]"
          ],
          "name": "stderr"
        },
        {
          "output_type": "stream",
          "text": [
            "Validation Accuracy: 0.5244821092278719\n"
          ],
          "name": "stdout"
        },
        {
          "output_type": "stream",
          "text": [
            "\n"
          ],
          "name": "stderr"
        }
      ]
    },
    {
      "cell_type": "code",
      "metadata": {
        "id": "SSqUqN7vAF19",
        "colab_type": "code",
        "outputId": "89ee771d-d31d-4789-bfc0-1cc85003a589",
        "colab": {
          "base_uri": "https://localhost:8080/",
          "height": 513
        }
      },
      "source": [
        "plt.figure(figsize=(15,8))\n",
        "plt.title(\"Training loss\")\n",
        "plt.xlabel(\"Batch\")\n",
        "plt.ylabel(\"Loss\")\n",
        "plt.plot(train_loss_set)\n",
        "plt.show()"
      ],
      "execution_count": 22,
      "outputs": [
        {
          "output_type": "display_data",
          "data": {
            "image/png": "[encoded data removed]",
            "text/plain": [
              "<Figure size 1080x576 with 1 Axes>"
            ]
          },
          "metadata": {
            "tags": [],
            "needs_background": "light"
          }
        }
      ]
    },
    {
      "cell_type": "code",
      "metadata": {
        "id": "OgFwIgbwCjzw",
        "colab_type": "code",
        "colab": {}
      },
      "source": [
        "#df = pd.read_csv(\"out_of_domain_dev.tsv\", delimiter='\\t', header=None, names=['sentence_source', 'label', 'label_notes', 'sentence'])\n",
        "df = df_original[6361:]\n",
        "\n",
        "# Create sentence and label lists\n",
        "sentences = df.text.values\n",
        "\n",
        "# We need to add special tokens at the beginning and end of each sentence for XLNet to work properly\n",
        "sentences = [sentence + \" [SEP] [CLS]\" for sentence in sentences]\n",
        "labels = df.sales_sentiment.values\n",
        "\n",
        "tokenized_texts = [tokenizer.tokenize(sent) for sent in sentences]\n",
        "\n",
        "\n",
        "#MAX_LEN = 512\n",
        "# Use the XLNet tokenizer to convert the tokens to their index numbers in the XLNet vocabulary\n",
        "input_ids = [tokenizer.convert_tokens_to_ids(x) for x in tokenized_texts]\n",
        "# Pad our input tokens\n",
        "input_ids = pad_sequences(input_ids, maxlen=MAX_LEN, dtype=\"long\", truncating=\"post\", padding=\"post\")\n",
        "# Create attention masks\n",
        "attention_masks = []\n",
        "\n",
        "# Create a mask of 1s for each token followed by 0s for padding\n",
        "for seq in input_ids:\n",
        "  seq_mask = [float(i>0) for i in seq]\n",
        "  attention_masks.append(seq_mask) \n",
        "\n",
        "prediction_inputs = torch.tensor(input_ids)\n",
        "prediction_masks = torch.tensor(attention_masks)\n",
        "prediction_labels = torch.tensor(labels)\n",
        "\n",
        "#batch_size = 8\n",
        "\n",
        "\n",
        "prediction_data = TensorDataset(prediction_inputs, prediction_masks, prediction_labels)\n",
        "prediction_sampler = SequentialSampler(prediction_data)\n",
        "prediction_dataloader = DataLoader(prediction_data, sampler=prediction_sampler, batch_size=batch_size)"
      ],
      "execution_count": 0,
      "outputs": []
    },
    {
      "cell_type": "code",
      "metadata": {
        "id": "Y-RLfqhhCned",
        "colab_type": "code",
        "colab": {}
      },
      "source": [
        "# Prediction on test set\n",
        "\n",
        "# Put model in evaluation mode\n",
        "model.eval()\n",
        "\n",
        "# Tracking variables \n",
        "predictions , true_labels = [], []\n",
        "\n",
        "# Predict \n",
        "for batch in prediction_dataloader:\n",
        "  # Add batch to GPU\n",
        "  batch = tuple(t.to(device) for t in batch)\n",
        "  # Unpack the inputs from our dataloader\n",
        "  b_input_ids, b_input_mask, b_labels = batch\n",
        "  # Telling the model not to compute or store gradients, saving memory and speeding up prediction\n",
        "  with torch.no_grad():\n",
        "    # Forward pass, calculate logit predictions\n",
        "    outputs = model(b_input_ids, token_type_ids=None, attention_mask=b_input_mask)\n",
        "    logits = outputs[0]\n",
        "\n",
        "  # Move logits and labels to CPU\n",
        "  logits = logits.detach().cpu().numpy()\n",
        "  label_ids = b_labels.to('cpu').numpy()\n",
        "  \n",
        "  # Store predictions and true labels\n",
        "  predictions.append(logits)\n",
        "  true_labels.append(label_ids)"
      ],
      "execution_count": 0,
      "outputs": []
    },
    {
      "cell_type": "code",
      "metadata": {
        "id": "ru1qyUl03fT-",
        "colab_type": "code",
        "outputId": "eb44170e-a1f5-43a4-c5c0-380170e56b64",
        "colab": {
          "base_uri": "https://localhost:8080/",
          "height": 34
        }
      },
      "source": [
        "total_size = 0\n",
        "correct_count = 0\n",
        "for i in range(len(true_labels)):\n",
        "  tl = true_labels[i]\n",
        "  pl = np.argmax(predictions[i], axis=1).flatten()\n",
        "  assert len(tl) == len(pl)\n",
        "  \n",
        "  total_size += len(tl)\n",
        "  for i in range(len(tl)):\n",
        "    if tl[i] == pl[i]:\n",
        "      correct_count += 1\n",
        "    \n",
        "print(\"Total: {}, Correct: {}, Accuracy: {}\".format(total_size, correct_count, correct_count/total_size))"
      ],
      "execution_count": 25,
      "outputs": [
        {
          "output_type": "stream",
          "text": [
            "Total: 707, Correct: 329, Accuracy: 0.46534653465346537\n"
          ],
          "name": "stdout"
        }
      ]
    },
    {
      "cell_type": "code",
      "metadata": {
        "id": "pe8GPcUD1qHc",
        "colab_type": "code",
        "colab": {
          "base_uri": "https://localhost:8080/",
          "height": 34
        },
        "outputId": "584a598b-244f-46d3-9d3b-2be0784a663f"
      },
      "source": [
        "from sklearn.metrics import matthews_corrcoef, roc_auc_score\n",
        "\n",
        "def auc_score(predictions, true_labels):\n",
        "    # Combine the results across all batches. \n",
        "    flat_predictions = np.concatenate(predictions, axis=0)\n",
        "\n",
        "    # For each sample, pick the label (0 or 1) with the higher score.\n",
        "    flat_predictions = np.argmax(flat_predictions, axis=1).flatten()\n",
        "\n",
        "    # Combine the correct labels for each batch into a single list.\n",
        "    flat_true_labels = np.concatenate(true_labels, axis=0)\n",
        "\n",
        "    return roc_auc_score(flat_true_labels, flat_predictions, average='weighted')\n",
        "\n",
        "\n",
        "auc = auc_score(predictions, true_labels)\n",
        "print(\"AUC Score: {}\".format(auc))\n"
      ],
      "execution_count": 26,
      "outputs": [
        {
          "output_type": "stream",
          "text": [
            "AUC Score: 0.5\n"
          ],
          "name": "stdout"
        }
      ]
    },
    {
      "cell_type": "code",
      "metadata": {
        "id": "S2-kIQsJCqUG",
        "colab_type": "code",
        "outputId": "935f7320-01d1-482c-8b8a-37952a10cb4d",
        "colab": {
          "base_uri": "https://localhost:8080/",
          "height": 51
        }
      },
      "source": [
        "# Import and evaluate each test batch using Matthew's correlation coefficient\n",
        "from sklearn.metrics import matthews_corrcoef\n",
        "matthews_set = []\n",
        "\n",
        "for i in range(len(true_labels)):\n",
        "  matthews = matthews_corrcoef(true_labels[i],\n",
        "                 np.argmax(predictions[i], axis=1).flatten())\n",
        "  matthews_set.append(matthews)"
      ],
      "execution_count": 27,
      "outputs": [
        {
          "output_type": "stream",
          "text": [
            "/usr/local/lib/python3.6/dist-packages/sklearn/metrics/_classification.py:900: RuntimeWarning: invalid value encountered in double_scalars\n",
            "  mcc = cov_ytyp / np.sqrt(cov_ytyt * cov_ypyp)\n"
          ],
          "name": "stderr"
        }
      ]
    },
    {
      "cell_type": "code",
      "metadata": {
        "id": "OMCbWPuBCurV",
        "colab_type": "code",
        "outputId": "d9f8ed6e-24a7-4656-b762-5a65274c0853",
        "colab": {
          "base_uri": "https://localhost:8080/",
          "height": 1000
        }
      },
      "source": [
        "matthews_set"
      ],
      "execution_count": 28,
      "outputs": [
        {
          "output_type": "execute_result",
          "data": {
            "text/plain": [
              "[0.0,\n",
              " 0.0,\n",
              " 0.0,\n",
              " 0.0,\n",
              " 0.0,\n",
              " 0.0,\n",
              " 0.0,\n",
              " 0.0,\n",
              " 0.0,\n",
              " 0.0,\n",
              " 0.0,\n",
              " 0.0,\n",
              " 0.0,\n",
              " 0.0,\n",
              " 0.0,\n",
              " 0.0,\n",
              " 0.0,\n",
              " 0.0,\n",
              " 0.0,\n",
              " 0.0,\n",
              " 0.0,\n",
              " 0.0,\n",
              " 0.0,\n",
              " 0.0,\n",
              " 0.0,\n",
              " 0.0,\n",
              " 0.0,\n",
              " 0.0,\n",
              " 0.0,\n",
              " 0.0,\n",
              " 0.0,\n",
              " 0.0,\n",
              " 0.0,\n",
              " 0.0,\n",
              " 0.0,\n",
              " 0.0,\n",
              " 0.0,\n",
              " 0.0,\n",
              " 0.0,\n",
              " 0.0,\n",
              " 0.0,\n",
              " 0.0,\n",
              " 0.0,\n",
              " 0.0,\n",
              " 0.0,\n",
              " 0.0,\n",
              " 0.0,\n",
              " 0.0,\n",
              " 0.0,\n",
              " 0.0,\n",
              " 0.0,\n",
              " 0.0,\n",
              " 0.0,\n",
              " 0.0,\n",
              " 0.0,\n",
              " 0.0,\n",
              " 0.0,\n",
              " 0.0,\n",
              " 0.0,\n",
              " 0.0,\n",
              " 0.0,\n",
              " 0.0,\n",
              " 0.0,\n",
              " 0.0,\n",
              " 0.0,\n",
              " 0.0,\n",
              " 0.0,\n",
              " 0.0,\n",
              " 0.0,\n",
              " 0.0,\n",
              " 0.0,\n",
              " 0.0,\n",
              " 0.0,\n",
              " 0.0,\n",
              " 0.0,\n",
              " 0.0,\n",
              " 0.0,\n",
              " 0.0,\n",
              " 0.0,\n",
              " 0.0,\n",
              " 0.0,\n",
              " 0.0,\n",
              " 0.0,\n",
              " 0.0,\n",
              " 0.0,\n",
              " 0.0,\n",
              " 0.0,\n",
              " 0.0,\n",
              " 0.0]"
            ]
          },
          "metadata": {
            "tags": []
          },
          "execution_count": 28
        }
      ]
    },
    {
      "cell_type": "code",
      "metadata": {
        "id": "YPn2Z300CxkK",
        "colab_type": "code",
        "colab": {}
      },
      "source": [
        "# Flatten the predictions and true values for aggregate Matthew's evaluation on the whole dataset\n",
        "flat_predictions = [item for sublist in predictions for item in sublist]\n",
        "flat_predictions = np.argmax(flat_predictions, axis=1).flatten()\n",
        "flat_true_labels = [item for sublist in true_labels for item in sublist]\n"
      ],
      "execution_count": 0,
      "outputs": []
    },
    {
      "cell_type": "code",
      "metadata": {
        "id": "_mJ6lzw_C0ib",
        "colab_type": "code",
        "outputId": "f4843d19-ef4b-4d11-bf25-3a49fae59738",
        "colab": {
          "base_uri": "https://localhost:8080/",
          "height": 68
        }
      },
      "source": [
        "print(\"MCC score of the whole dataset: {}\".format(matthews_corrcoef(flat_true_labels, flat_predictions)))"
      ],
      "execution_count": 30,
      "outputs": [
        {
          "output_type": "stream",
          "text": [
            "MCC score of the whole dataset: 0.0\n"
          ],
          "name": "stdout"
        },
        {
          "output_type": "stream",
          "text": [
            "/usr/local/lib/python3.6/dist-packages/sklearn/metrics/_classification.py:900: RuntimeWarning: invalid value encountered in double_scalars\n",
            "  mcc = cov_ytyp / np.sqrt(cov_ytyt * cov_ypyp)\n"
          ],
          "name": "stderr"
        }
      ]
    },
    {
      "cell_type": "code",
      "metadata": {
        "id": "bCVD4Kz9C2a8",
        "colab_type": "code",
        "outputId": "e777a873-27ff-4fe4-ada7-9b3948a3f22d",
        "colab": {
          "base_uri": "https://localhost:8080/",
          "height": 349
        }
      },
      "source": [
        "import seaborn as sns\n",
        "def plot_mcc_per_batch(matthews_set):\n",
        "    #ax = sns.barplot(x=list(range(len(matthews_set))), y=matthews_set, ci=None)\n",
        "    _, ax = plt.subplots()\n",
        "    ax.barh(list(range(len(matthews_set))), matthews_set, align='center')\n",
        "\n",
        "    plt.title('MCC Score per Batch')\n",
        "    plt.xlabel('MCC Score (-1 to +1)')\n",
        "    plt.ylabel('Batch #')\n",
        "\n",
        "\n",
        "    plt.show()\n",
        "\n",
        "plot_mcc_per_batch(matthews_set)"
      ],
      "execution_count": 31,
      "outputs": [
        {
          "output_type": "stream",
          "text": [
            "/usr/local/lib/python3.6/dist-packages/statsmodels/tools/_testing.py:19: FutureWarning: pandas.util.testing is deprecated. Use the functions in the public API at pandas.testing instead.\n",
            "  import pandas.util.testing as tm\n"
          ],
          "name": "stderr"
        },
        {
          "output_type": "display_data",
          "data": {
            "image/png": "[encoded data removed]",
            "text/plain": [
              "<Figure size 432x288 with 1 Axes>"
            ]
          },
          "metadata": {
            "tags": [],
            "needs_background": "light"
          }
        }
      ]
    },
    {
      "cell_type": "markdown",
      "metadata": {
        "id": "cJzPrFD7VNKG",
        "colab_type": "text"
      },
      "source": [
        "References <br>\n",
        "1. https://huggingface.co/transformers/model_doc/xlnet.html# <br>\n",
        "2. https://mccormickml.com/2019/09/19/XLNet-fine-tuning/ <br>\n",
        "3. https://github.com/zihangdai/xlnet <br>\n",
        "\n"
      ]
    },
    {
      "cell_type": "code",
      "metadata": {
        "id": "3Kdos4RI6c-U",
        "colab_type": "code",
        "colab": {}
      },
      "source": [
        ""
      ],
      "execution_count": 0,
      "outputs": []
    }
  ]
}